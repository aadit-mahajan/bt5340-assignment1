{
 "cells": [
  {
   "cell_type": "code",
   "execution_count": 1,
   "metadata": {},
   "outputs": [],
   "source": [
    "import os\n",
    "import Bio.PDB\n",
    "import numpy as np\n",
    "import pandas as pd\n",
    "import warnings\n",
    "from biopandas import pdb as ppdb\n",
    "import concurrent.futures \n",
    "\n",
    "warnings.filterwarnings(\"ignore\") # this was done only for the sake of the pandaspdb I/O warnings. \n"
   ]
  },
  {
   "cell_type": "code",
   "execution_count": 104,
   "metadata": {},
   "outputs": [
    {
     "name": "stdout",
     "output_type": "stream",
     "text": [
      "PDBs: 9832\n",
      "['5D8V', '3NIR', '5NW3', '1UCS', '3X2M']\n"
     ]
    }
   ],
   "source": [
    "pdb_ids = []\n",
    "chain_ids = []\n",
    "with open('server_data_pdbs', 'r') as f:\n",
    "    for line in f:\n",
    "        pdb_ids.append(line.strip()[:4])\n",
    "        chain_ids.append(line.strip()[4])\n",
    "\n",
    "metadata = np.array([pdb_ids, chain_ids]).T\n",
    "print('PDBs:', len(pdb_ids))\n",
    "print(pdb_ids[:5])"
   ]
  },
  {
   "cell_type": "code",
   "execution_count": 105,
   "metadata": {},
   "outputs": [],
   "source": [
    "def clean_pdb(pdb_file_path, chain_id, output_dir):\n",
    "    '''\n",
    "    extract only the chain of interest from the pdb file\n",
    "    '''\n",
    "    aa_list = ['ALA', 'CYS', 'ASP', 'GLU', 'PHE', 'GLY', 'HIS', 'ILE', 'LYS', 'LEU', 'MET', 'ASN', 'PRO', 'GLN', 'ARG', 'SER', 'THR', 'VAL', 'TRP', 'TYR']\n",
    "\n",
    "    pdb_id = os.path.basename(pdb_file_path).split('.')[0]\n",
    "    data = ppdb.PandasPdb().read_pdb(pdb_file_path)\n",
    "    clean_data = ppdb.PandasPdb()\n",
    "    clean_data.df['ATOM'] = data.df['ATOM'][data.df['ATOM']['chain_id'] == chain_id]\n",
    "    print(clean_data.df['ATOM']['residue_name'])\n",
    "    clean_data.df['ATOM'] = clean_data.df['ATOM'][clean_data.df['ATOM']['residue_name'].isin(aa_list)]\n",
    "    output_path = os.path.join(output_dir, f'{pdb_id}_{chain_id}.pdb')\n",
    "    ppdb.PandasPdb.to_pdb(clean_data, output_path)\n",
    "    return clean_data"
   ]
  },
  {
   "cell_type": "code",
   "execution_count": null,
   "metadata": {},
   "outputs": [],
   "source": [
    "def get_angles(pdb_id, file_path, chain_id):\n",
    "    angles = []\n",
    "    for model in Bio.PDB.PDBParser().get_structure(pdb_id, file_path):\n",
    "        for chain in model:\n",
    "            if chain.id == chain_id:\n",
    "                poly = Bio.PDB.Polypeptide.Polypeptide(chain)\n",
    "                print (\"Model %s Chain %s\" % (str(model.id), str(chain.id)))\n",
    "                phiPsi_list = poly.get_phi_psi_list()\n",
    "                seq = poly.get_sequence()\n",
    "\n",
    "                data = []\n",
    "                for i in range(len(phiPsi_list)):\n",
    "                    phi, psi = phiPsi_list[i]\n",
    "                    if phi is None and psi is None:\n",
    "                        continue\n",
    "                    elif phi is None:\n",
    "                        phi = 0\n",
    "                    elif psi is None:\n",
    "                        psi = 0\n",
    "                    data.append([phi, psi, seq[i]])\n",
    "                angles.extend(data)\n",
    "                break\n",
    "\n",
    "    return angles\n",
    "\n",
    "def get_sequence(pdb_id, file_path, chain_id):\n",
    "    sequence = ''\n",
    "    for model in Bio.PDB.PDBParser().get_structure(pdb_id, file_path) :\n",
    "        for chain in model:\n",
    "            if chain.id != chain_id:\n",
    "                continue\n",
    "            poly = Bio.PDB.Polypeptide.Polypeptide(chain)\n",
    "            sequence = poly.get_sequence()\n",
    "            break\n",
    "    return sequence\n",
    "\n",
    "def generate_angle_data(pdb_file_path, output_dir):\n",
    "    \n",
    "    if os.path.exists(output_dir):\n",
    "        pdb_id = os.path.basename(pdb_file_path).split('.')[0].split('_')[0]\n",
    "        chain = os.path.basename(pdb_file_path).split('.')[0].split('_')[1]\n",
    "        angles = get_angles(pdb_id, file_path=pdb_file_path, chain_id=chain)\n",
    "\n",
    "        if len(angles) > 0:\n",
    "            phi_angles, psi_angles, sequence = zip(*angles)\n",
    "            data = pd.DataFrame({'phi': phi_angles, 'psi': psi_angles, 'sequence': sequence})\n",
    "            data_file_name = os.path.join(output_dir, pdb_id + '.csv')\n",
    "            data.to_csv(data_file_name, index=False)\n",
    "            print('Saved:', data_file_name)\n",
    "        else:\n",
    "            print('No angles found for:', pdb_id)\n",
    "\n",
    "    else:\n",
    "        print('Output directory not found:', output_dir)\n",
    "            \n",
    "os.makedirs('pruned_pdb_files', exist_ok=True)\n",
    "os.makedirs('angles', exist_ok=True)\n",
    "\n",
    "def prune_pdb_files(file_path):\n",
    "    for file in os.listdir(file_path):\n",
    "        if file.endswith('.pdb'):\n",
    "            pdb_id = file.split('.')[0]\n",
    "            chain_id = chain_ids[pdb_ids.index(pdb_id)]\n",
    "            clean_pdb(f'./pdb_files/{file}', chain_id, 'pruned_pdb_files')\n",
    "            print('Cleaned:', pdb_id)\n",
    "\n",
    "# prune_pdb_files('./pdb_files')\n",
    "# generate_angle_data('./pdb_files/4N2P.pdb', 'angles')\n",
    "\n",
    "# Expected time for cleaning: 26.33480230967204 minutes (sequential)\n",
    "# Expected time for angle calculation: 16.18500550587972 minutes (sequential)"
   ]
  },
  {
   "cell_type": "code",
   "execution_count": null,
   "metadata": {},
   "outputs": [],
   "source": [
    "pdb_file_list = os.listdir('./pruned_pdb_files')\n",
    "print('Total files:', len(pdb_file_list))\n",
    "\n",
    "with concurrent.futures.ThreadPoolExecutor() as executor:\n",
    "\n",
    "    executor.map(generate_angle_data, \n",
    "                 [f'./pruned_pdb_files/{file}' for file in os.listdir('./pruned_pdb_files')], \n",
    "                 ['angles' for _ in range(len(os.listdir('./pruned_pdb_files')))]\n",
    "                  )"
   ]
  },
  {
   "cell_type": "code",
   "execution_count": 21,
   "metadata": {},
   "outputs": [
    {
     "name": "stdout",
     "output_type": "stream",
     "text": [
      "Saved: I_angles.csv\n"
     ]
    }
   ],
   "source": [
    "def get_angles_res(pdb_id, file_path, chain_id, res = 'I'):\n",
    "    angles = []\n",
    "    for model in Bio.PDB.PDBParser().get_structure(pdb_id, file_path):\n",
    "        for chain in model:\n",
    "            if chain.id == chain_id:\n",
    "                poly = Bio.PDB.Polypeptide.Polypeptide(chain)\n",
    "                phiPsi_list = np.asarray(poly.get_phi_psi_list())\n",
    "                seq = np.array(poly.get_sequence(), dtype=str)\n",
    "                idx = np.where(seq == res)[0]\n",
    "                angles.extend(phiPsi_list[idx])\n",
    "\n",
    "    return angles\n",
    "\n",
    "def get_all_angles_res(pdb_files_dir, output_file, res = 'I'):\n",
    "    data = []\n",
    "    with concurrent.futures.ThreadPoolExecutor() as executor:\n",
    "        results = executor.map(get_angles_res, \n",
    "                     [file.split('_')[0] for file in os.listdir(pdb_files_dir)], \n",
    "                     [f'{pdb_files_dir}/{file}' for file in os.listdir(pdb_files_dir)], \n",
    "                     [file.split('_')[1].split('.')[0] for file in os.listdir(pdb_files_dir)], \n",
    "                     [res for _ in range(len(os.listdir(pdb_files_dir)))]\n",
    "                      )\n",
    "    \n",
    "    # concatenate the results\n",
    "    for result in results:\n",
    "        data.extend(result)\n",
    "\n",
    "    data = pd.DataFrame(data, columns=['phi', 'psi'])\n",
    "    data.to_csv(output_file, index=False)\n",
    "    print('Saved:', output_file)\n",
    "\n",
    "\n",
    "# get_angles_res('1A1X', './pruned_pdb_files/1A1X_A.pdb', 'A', 'I')\n",
    "get_all_angles_res('./pruned_pdb_files', 'I_angles.csv', 'I')"
   ]
  },
  {
   "cell_type": "code",
   "execution_count": null,
   "metadata": {},
   "outputs": [],
   "source": []
  }
 ],
 "metadata": {
  "kernelspec": {
   "display_name": "base",
   "language": "python",
   "name": "python3"
  },
  "language_info": {
   "codemirror_mode": {
    "name": "ipython",
    "version": 3
   },
   "file_extension": ".py",
   "mimetype": "text/x-python",
   "name": "python",
   "nbconvert_exporter": "python",
   "pygments_lexer": "ipython3",
   "version": "3.9.13"
  }
 },
 "nbformat": 4,
 "nbformat_minor": 2
}
